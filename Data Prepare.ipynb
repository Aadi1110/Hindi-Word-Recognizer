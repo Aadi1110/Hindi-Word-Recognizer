{
 "cells": [
  {
   "cell_type": "code",
   "execution_count": 1,
   "metadata": {},
   "outputs": [],
   "source": [
    "import numpy as np\n",
    "import matplotlib.pyplot as plt\n",
    "import os\n",
    "import cv2\n",
    "import pandas as pd\n",
    "from PIL import Image"
   ]
  },
  {
   "cell_type": "code",
   "execution_count": 2,
   "metadata": {},
   "outputs": [],
   "source": [
    "train_dir = os.listdir('Data/Train')\n",
    "test_dir = os.listdir('Data/Test')"
   ]
  },
  {
   "cell_type": "code",
   "execution_count": 3,
   "metadata": {},
   "outputs": [],
   "source": [
    "def create_train_data():\n",
    "    ref = {}\n",
    "    X_train = []\n",
    "    Y_train = []\n",
    "    for i in range(0,10,1):\n",
    "        p = 37+i\n",
    "        ref[p] = i\n",
    "    for names in train_dir:\n",
    "        x = names.split('_')\n",
    "        if x[0]=='character':\n",
    "            ref[int(x[1])] = x[2]\n",
    "        di = 'Data/Train/'+names\n",
    "        images = os.listdir(di)\n",
    "        for files in images:\n",
    "            files = di+'/'+files\n",
    "            img = cv2.imread(files)\n",
    "            img = cv2.cvtColor(img, cv2.COLOR_BGR2GRAY)\n",
    "            X_train.append(img)\n",
    "            if x[0]=='character':\n",
    "                Y_train.append(int(x[1]))\n",
    "    X_train = np.array(X_train)\n",
    "    Y_train = np.asarray(Y_train)\n",
    "    return X_train, Y_train, ref"
   ]
  },
  {
   "cell_type": "code",
   "execution_count": 4,
   "metadata": {},
   "outputs": [],
   "source": [
    "def create_test_data():\n",
    "    X_test = []\n",
    "    Y_test = []\n",
    "    for names in test_dir:\n",
    "        x = names.split('_')\n",
    "        di = 'Data/Test/'+names\n",
    "        images = os.listdir(di)\n",
    "        for files in images:\n",
    "            files = di+'/'+files\n",
    "            img = cv2.imread(files)\n",
    "            img = cv2.cvtColor(img, cv2.COLOR_BGR2GRAY)\n",
    "            X_test.append(img)\n",
    "            if x[0]=='character':\n",
    "                Y_test.append(int(x[1]))\n",
    "    X_test = np.array(X_test)\n",
    "    Y_test = np.asarray(Y_test)\n",
    "    return X_test, Y_test"
   ]
  },
  {
   "cell_type": "code",
   "execution_count": 5,
   "metadata": {},
   "outputs": [],
   "source": [
    "X_train, Y_train, ref = create_train_data()\n",
    "X_test, Y_test = create_test_data()"
   ]
  },
  {
   "cell_type": "code",
   "execution_count": 6,
   "metadata": {},
   "outputs": [
    {
     "output_type": "stream",
     "name": "stdout",
     "text": [
      "(49300, 1024)\n"
     ]
    }
   ],
   "source": [
    "X_train = X_train.reshape([49300,-1])\n",
    "print(X_train.shape)\n",
    "df = pd.DataFrame(X_train)\n",
    "df.to_csv('X_train.csv')"
   ]
  },
  {
   "cell_type": "code",
   "execution_count": 7,
   "metadata": {},
   "outputs": [
    {
     "output_type": "stream",
     "name": "stdout",
     "text": [
      "(8700, 1024)\n"
     ]
    }
   ],
   "source": [
    "# print(X_test.shape)\n",
    "X_test = X_test.reshape([8700,-1])\n",
    "print(X_test.shape)\n",
    "df = pd.DataFrame(X_test)\n",
    "df.to_csv('X_test.csv')"
   ]
  },
  {
   "cell_type": "code",
   "execution_count": 8,
   "metadata": {},
   "outputs": [
    {
     "output_type": "stream",
     "name": "stdout",
     "text": [
      "(49300, 1)\n"
     ]
    }
   ],
   "source": [
    "Y_train = Y_train.reshape([49300,-1])\n",
    "print(Y_train.shape)\n",
    "df = pd.DataFrame(Y_train)\n",
    "df.to_csv('Y_train.csv')"
   ]
  },
  {
   "cell_type": "code",
   "execution_count": 11,
   "metadata": {},
   "outputs": [
    {
     "output_type": "stream",
     "name": "stdout",
     "text": [
      "(8700, 1)\n(49300, 1024)\n"
     ]
    }
   ],
   "source": [
    "Y_test = Y_test.reshape([8700,-1])\n",
    "print(Y_test.shape)\n",
    "df = pd.DataFrame(Y_test)\n",
    "print(X_train.shape)\n",
    "df.to_csv('Y_test.csv')"
   ]
  },
  {
   "cell_type": "code",
   "execution_count": 12,
   "metadata": {},
   "outputs": [],
   "source": [
    "np.save('References.npy',ref)"
   ]
  },
  {
   "cell_type": "code",
   "execution_count": null,
   "metadata": {},
   "outputs": [],
   "source": []
  }
 ],
 "metadata": {
  "kernelspec": {
   "name": "python38564bitbasecondad23263a6c01741ca999608df41f95bf0",
   "display_name": "Python 3.8.5 64-bit ('base': conda)"
  },
  "language_info": {
   "codemirror_mode": {
    "name": "ipython",
    "version": 2
   },
   "file_extension": ".py",
   "mimetype": "text/x-python",
   "name": "python",
   "nbconvert_exporter": "python",
   "pygments_lexer": "ipython2",
   "version": "3.8.5-final"
  },
  "metadata": {
   "interpreter": {
    "hash": "822cc532f00b2cebd0427b5f5964f8c3d534fea9626476c383cbb03c0e4e9824"
   }
  }
 },
 "nbformat": 4,
 "nbformat_minor": 2
}